{
 "cells": [
  {
   "cell_type": "code",
   "execution_count": null,
   "id": "297a5b87",
   "metadata": {},
   "outputs": [],
   "source": [
    "import tvm\n",
    "from tvm.ir.module import IRModule\n",
    "from tvm.script import tir as T\n",
    "import numpy as np"
   ]
  },
  {
   "cell_type": "code",
   "execution_count": null,
   "id": "d89641fa",
   "metadata": {},
   "outputs": [],
   "source": [
    "# declare module\n",
    "# TODO: Try work on the following workloads\n",
    "dim = 16777216\n",
    "# dim = 10000000\n",
    "\n",
    "@tvm.script.ir_module\n",
    "class MyModule:\n",
    "    @T.prim_func\n",
    "    def main(A: T.Buffer[dim, \"float32\"], \n",
    "             B: T.Buffer[dim, \"float32\"], \n",
    "             C: T.Buffer[dim, \"float32\"]):\n",
    "        # extra annotations for the function\n",
    "        T.func_attr({\"global_symbol\": \"main\", \"tir.noalias\": True})\n",
    "        for i in range(dim):\n",
    "            with T.block(\"C\"):\n",
    "                # declare a data parallel iterator on spatial domain\n",
    "                vi = T.axis.spatial(dim, i)\n",
    "                C[vi] = A[vi] + B[vi]\n",
    "a = tvm.nd.array(np.arange(dim, dtype=\"float32\"))\n",
    "b = tvm.nd.array(np.ones(dim, dtype=\"float32\")) \n",
    "c = tvm.nd.empty((dim,), dtype=\"float32\")\n",
    "target = \"llvm\"\n",
    "dev = tvm.device(target, 0)"
   ]
  },
  {
   "cell_type": "code",
   "execution_count": null,
   "id": "46928c7f",
   "metadata": {},
   "outputs": [],
   "source": [
    "def split_sch(mod, factors=4):\n",
    "    if isinstance(factors, int):\n",
    "        factors = [None, factors]\n",
    "    else:\n",
    "        factors = [None] + factors\n",
    "\n",
    "    assert(isinstance(factors, list))\n",
    "\n",
    "    sch = tvm.tir.Schedule(mod)\n",
    "    # Get block by its name\n",
    "    block_c = sch.get_block(\"C\")\n",
    "    # Get loops surronding the block\n",
    "    (i,) = sch.get_loops(block_c)\n",
    "    return sch, sch.split(i, factors=factors)"
   ]
  },
  {
   "cell_type": "code",
   "execution_count": null,
   "id": "d5329ba6",
   "metadata": {},
   "outputs": [],
   "source": []
  },
  {
   "cell_type": "code",
   "execution_count": null,
   "id": "9a0b4a0c",
   "metadata": {},
   "outputs": [],
   "source": [
    "def split_and_benchmark(mod, factors=4):\n",
    "    sch, (i_0, i_1) = split_sch(mod, factors)\n",
    "    # TODO: try different factors\n",
    "    # TODO: try parallelize and not parallelize\n",
    "    sch.parallel(i_0)\n",
    "    # sch.vectorize(i_1)\n",
    "    # mod = tvm.build(sch.mod, target=\"llvm -mcpu=skylake-avx512\")\n",
    "    mod = tvm.build(sch.mod, target=\"llvm\")\n",
    "    func = mod[\"main\"]\n",
    "    dev = tvm.device(target, 0)\n",
    "    evaluator = mod.time_evaluator(mod.entry_name, dev, number=1000)\n",
    "    print(\"Time is: %f ms\" % (evaluator(a, b, c).mean * 1000))"
   ]
  },
  {
   "cell_type": "code",
   "execution_count": null,
   "id": "ad9ae048",
   "metadata": {},
   "outputs": [],
   "source": []
  },
  {
   "cell_type": "code",
   "execution_count": null,
   "id": "7fa9649f",
   "metadata": {},
   "outputs": [],
   "source": [
    "def split_and_benchmark(mod, factors=[4, 4]):\n",
    "    sch, (i_0, i_1, i_2) = split_sch(mod, factors)\n",
    "    # TODO: try different reorder here\n",
    "    # sch.reorder(i_0, i_2, i_1)\n",
    "    sch.parallel(i_0)\n",
    "    sch.vectorize(i_2)\n",
    "    # print(sch.mod.script())\n",
    "    # mod = tvm.build(sch.mod, target=\"llvm -mcpu=skylake-avx512\")\n",
    "    mod = tvm.build(sch.mod, target=\"llvm\")\n",
    "    func = mod[\"main\"]\n",
    "    dev = tvm.device(target, 0)\n",
    "    evaluator = mod.time_evaluator(mod.entry_name, dev, number=1000)\n",
    "    print(\"Time is: %f ms\" % (evaluator(a, b, c).mean * 1000))"
   ]
  },
  {
   "cell_type": "code",
   "execution_count": null,
   "id": "575e5a26",
   "metadata": {},
   "outputs": [],
   "source": []
  },
  {
   "cell_type": "code",
   "execution_count": null,
   "id": "2192041e",
   "metadata": {},
   "outputs": [],
   "source": []
  },
  {
   "cell_type": "code",
   "execution_count": null,
   "id": "39afd1ec",
   "metadata": {},
   "outputs": [],
   "source": []
  },
  {
   "cell_type": "markdown",
   "id": "99b81e7a",
   "metadata": {},
   "source": []
  }
 ],
 "metadata": {
  "kernelspec": {
   "display_name": "conda_python3",
   "language": "python",
   "name": "conda_python3"
  },
  "language_info": {
   "codemirror_mode": {
    "name": "ipython",
    "version": 3
   },
   "file_extension": ".py",
   "mimetype": "text/x-python",
   "name": "python",
   "nbconvert_exporter": "python",
   "pygments_lexer": "ipython3",
   "version": "3.8.12"
  }
 },
 "nbformat": 4,
 "nbformat_minor": 5
}
